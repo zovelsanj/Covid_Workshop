{
 "cells": [
  {
   "cell_type": "markdown",
   "metadata": {},
   "source": [
    "### Counting K-mers from the sequence in fasta format"
   ]
  },
  {
   "cell_type": "markdown",
   "metadata": {},
   "source": [
    "<img src=\"kmers.png\" width=\"300\">"
   ]
  },
  {
   "cell_type": "markdown",
   "metadata": {},
   "source": [
    "A kmer is just a nucleotide sequence of a certain length."
   ]
  },
  {
   "cell_type": "code",
   "execution_count": 1,
   "metadata": {},
   "outputs": [],
   "source": [
    "import numpy as np\n",
    "import matplotlib.pyplot as plt\n",
    "from collections import Counter \n",
    "from itertools import product  #for cartesian product "
   ]
  },
  {
   "cell_type": "code",
   "execution_count": 2,
   "metadata": {},
   "outputs": [],
   "source": [
    "file = 'data_external/wuhan.fasta'\n",
    "with open(file, 'r') as f:\n",
    "    genome = ''.join([line.strip() for line in f.readlines()[1:]])"
   ]
  },
  {
   "cell_type": "code",
   "execution_count": 9,
   "metadata": {},
   "outputs": [
    {
     "data": {
      "text/plain": [
       "29903"
      ]
     },
     "execution_count": 9,
     "metadata": {},
     "output_type": "execute_result"
    }
   ],
   "source": [
    "genome\n",
    "len(genome)"
   ]
  },
  {
   "cell_type": "code",
   "execution_count": null,
   "metadata": {},
   "outputs": [],
   "source": []
  },
  {
   "cell_type": "code",
   "execution_count": 4,
   "metadata": {},
   "outputs": [
    {
     "data": {
      "text/plain": [
       "Counter({'AT': 2308,\n",
       "         'TT': 3215,\n",
       "         'TA': 2377,\n",
       "         'AA': 2880,\n",
       "         'AG': 1742,\n",
       "         'GG': 1093,\n",
       "         'GT': 1990,\n",
       "         'AC': 2023,\n",
       "         'CC': 888,\n",
       "         'CT': 2081,\n",
       "         'TC': 1413,\n",
       "         'CA': 2084,\n",
       "         'CG': 439,\n",
       "         'GA': 1612,\n",
       "         'TG': 2589,\n",
       "         'GC': 1168})"
      ]
     },
     "execution_count": 4,
     "metadata": {},
     "output_type": "execute_result"
    }
   ],
   "source": [
    "counts = [genome[i:i+2] for i in range(len(genome)) if len(genome[i:i+2]) == 2]\n",
    "Counter(counts)"
   ]
  },
  {
   "cell_type": "code",
   "execution_count": 5,
   "metadata": {},
   "outputs": [],
   "source": [
    "def kmer_sequence(seq, k):\n",
    "    my_dict = dict()\n",
    "    counts = Counter(genome[i:i+k] for i in range(len(genome)) if len(genome[i:i+k]) == k)\n",
    "    for k_mer in (''.join(t) for t in product('ACGT', repeat=k)):\n",
    "        #print(f\"count of {k_mer} is {counts[k_mer]}\")\n",
    "        my_dict[k_mer] = counts[k_mer]\n",
    "    return my_dict\n",
    "        "
   ]
  },
  {
   "cell_type": "code",
   "execution_count": 7,
   "metadata": {},
   "outputs": [
    {
     "data": {
      "text/plain": [
       "{'AAAA': 281,\n",
       " 'AAAC': 191,\n",
       " 'AAAG': 205,\n",
       " 'AAAT': 245,\n",
       " 'AACA': 256,\n",
       " 'AACC': 115,\n",
       " 'AACG': 45,\n",
       " 'AACT': 199,\n",
       " 'AAGA': 209,\n",
       " 'AAGC': 95,\n",
       " 'AAGG': 120,\n",
       " 'AAGT': 156,\n",
       " 'AATA': 144,\n",
       " 'AATC': 109,\n",
       " 'AATG': 234,\n",
       " 'AATT': 274,\n",
       " 'ACAA': 285,\n",
       " 'ACAC': 168,\n",
       " 'ACAG': 161,\n",
       " 'ACAT': 195,\n",
       " 'ACCA': 151,\n",
       " 'ACCC': 56,\n",
       " 'ACCG': 29,\n",
       " 'ACCT': 140,\n",
       " 'ACGA': 36,\n",
       " 'ACGC': 34,\n",
       " 'ACGG': 30,\n",
       " 'ACGT': 64,\n",
       " 'ACTA': 173,\n",
       " 'ACTC': 101,\n",
       " 'ACTG': 157,\n",
       " 'ACTT': 243,\n",
       " 'AGAA': 205,\n",
       " 'AGAC': 118,\n",
       " 'AGAG': 132,\n",
       " 'AGAT': 150,\n",
       " 'AGCA': 86,\n",
       " 'AGCC': 48,\n",
       " 'AGCG': 22,\n",
       " 'AGCT': 145,\n",
       " 'AGGA': 90,\n",
       " 'AGGC': 61,\n",
       " 'AGGG': 53,\n",
       " 'AGGT': 125,\n",
       " 'AGTA': 107,\n",
       " 'AGTC': 76,\n",
       " 'AGTG': 146,\n",
       " 'AGTT': 178,\n",
       " 'ATAA': 160,\n",
       " 'ATAC': 109,\n",
       " 'ATAG': 91,\n",
       " 'ATAT': 111,\n",
       " 'ATCA': 137,\n",
       " 'ATCC': 51,\n",
       " 'ATCG': 21,\n",
       " 'ATCT': 130,\n",
       " 'ATGA': 187,\n",
       " 'ATGC': 153,\n",
       " 'ATGG': 175,\n",
       " 'ATGT': 210,\n",
       " 'ATTA': 219,\n",
       " 'ATTC': 133,\n",
       " 'ATTG': 189,\n",
       " 'ATTT': 232,\n",
       " 'CAAA': 213,\n",
       " 'CAAC': 194,\n",
       " 'CAAG': 120,\n",
       " 'CAAT': 176,\n",
       " 'CACA': 156,\n",
       " 'CACC': 99,\n",
       " 'CACG': 41,\n",
       " 'CACT': 163,\n",
       " 'CAGA': 167,\n",
       " 'CAGC': 71,\n",
       " 'CAGG': 85,\n",
       " 'CAGT': 115,\n",
       " 'CATA': 108,\n",
       " 'CATC': 94,\n",
       " 'CATG': 121,\n",
       " 'CATT': 161,\n",
       " 'CCAA': 108,\n",
       " 'CCAC': 82,\n",
       " 'CCAG': 80,\n",
       " 'CCAT': 84,\n",
       " 'CCCA': 39,\n",
       " 'CCCC': 14,\n",
       " 'CCCG': 13,\n",
       " 'CCCT': 50,\n",
       " 'CCGA': 17,\n",
       " 'CCGC': 20,\n",
       " 'CCGG': 10,\n",
       " 'CCGT': 27,\n",
       " 'CCTA': 105,\n",
       " 'CCTC': 54,\n",
       " 'CCTG': 67,\n",
       " 'CCTT': 118,\n",
       " 'CGAA': 36,\n",
       " 'CGAC': 15,\n",
       " 'CGAG': 12,\n",
       " 'CGAT': 32,\n",
       " 'CGCA': 43,\n",
       " 'CGCC': 13,\n",
       " 'CGCG': 13,\n",
       " 'CGCT': 28,\n",
       " 'CGGA': 16,\n",
       " 'CGGC': 21,\n",
       " 'CGGG': 10,\n",
       " 'CGGT': 29,\n",
       " 'CGTA': 41,\n",
       " 'CGTC': 23,\n",
       " 'CGTG': 62,\n",
       " 'CGTT': 45,\n",
       " 'CTAA': 174,\n",
       " 'CTAC': 128,\n",
       " 'CTAG': 89,\n",
       " 'CTAT': 170,\n",
       " 'CTCA': 131,\n",
       " 'CTCC': 31,\n",
       " 'CTCG': 32,\n",
       " 'CTCT': 93,\n",
       " 'CTGA': 117,\n",
       " 'CTGC': 112,\n",
       " 'CTGG': 100,\n",
       " 'CTGT': 166,\n",
       " 'CTTA': 189,\n",
       " 'CTTC': 131,\n",
       " 'CTTG': 168,\n",
       " 'CTTT': 250,\n",
       " 'GAAA': 166,\n",
       " 'GAAC': 95,\n",
       " 'GAAG': 152,\n",
       " 'GAAT': 122,\n",
       " 'GACA': 158,\n",
       " 'GACC': 55,\n",
       " 'GACG': 29,\n",
       " 'GACT': 98,\n",
       " 'GAGA': 80,\n",
       " 'GAGC': 54,\n",
       " 'GAGG': 65,\n",
       " 'GAGT': 98,\n",
       " 'GATA': 81,\n",
       " 'GATC': 60,\n",
       " 'GATG': 170,\n",
       " 'GATT': 129,\n",
       " 'GCAA': 115,\n",
       " 'GCAC': 98,\n",
       " 'GCAG': 81,\n",
       " 'GCAT': 78,\n",
       " 'GCCA': 78,\n",
       " 'GCCC': 17,\n",
       " 'GCCG': 17,\n",
       " 'GCCT': 75,\n",
       " 'GCGA': 20,\n",
       " 'GCGC': 17,\n",
       " 'GCGG': 14,\n",
       " 'GCGT': 37,\n",
       " 'GCTA': 139,\n",
       " 'GCTC': 54,\n",
       " 'GCTG': 164,\n",
       " 'GCTT': 164,\n",
       " 'GGAA': 99,\n",
       " 'GGAC': 70,\n",
       " 'GGAG': 63,\n",
       " 'GGAT': 50,\n",
       " 'GGCA': 79,\n",
       " 'GGCC': 32,\n",
       " 'GGCG': 19,\n",
       " 'GGCT': 93,\n",
       " 'GGGA': 33,\n",
       " 'GGGC': 31,\n",
       " 'GGGG': 15,\n",
       " 'GGGT': 55,\n",
       " 'GGTA': 121,\n",
       " 'GGTC': 29,\n",
       " 'GGTG': 157,\n",
       " 'GGTT': 147,\n",
       " 'GTAA': 126,\n",
       " 'GTAC': 131,\n",
       " 'GTAG': 118,\n",
       " 'GTAT': 94,\n",
       " 'GTCA': 98,\n",
       " 'GTCC': 47,\n",
       " 'GTCG': 21,\n",
       " 'GTCT': 103,\n",
       " 'GTGA': 135,\n",
       " 'GTGC': 113,\n",
       " 'GTGG': 114,\n",
       " 'GTGT': 190,\n",
       " 'GTTA': 179,\n",
       " 'GTTC': 95,\n",
       " 'GTTG': 203,\n",
       " 'GTTT': 223,\n",
       " 'TAAA': 263,\n",
       " 'TAAC': 135,\n",
       " 'TAAG': 103,\n",
       " 'TAAT': 218,\n",
       " 'TACA': 239,\n",
       " 'TACC': 107,\n",
       " 'TACG': 49,\n",
       " 'TACT': 214,\n",
       " 'TAGA': 149,\n",
       " 'TAGC': 81,\n",
       " 'TAGG': 59,\n",
       " 'TAGT': 138,\n",
       " 'TATA': 138,\n",
       " 'TATC': 76,\n",
       " 'TATG': 200,\n",
       " 'TATT': 208,\n",
       " 'TCAA': 195,\n",
       " 'TCAC': 111,\n",
       " 'TCAG': 116,\n",
       " 'TCAT': 127,\n",
       " 'TCCA': 86,\n",
       " 'TCCC': 29,\n",
       " 'TCCG': 15,\n",
       " 'TCCT': 79,\n",
       " 'TCGA': 22,\n",
       " 'TCGC': 26,\n",
       " 'TCGG': 22,\n",
       " 'TCGT': 43,\n",
       " 'TCTA': 144,\n",
       " 'TCTC': 78,\n",
       " 'TCTG': 107,\n",
       " 'TCTT': 213,\n",
       " 'TGAA': 195,\n",
       " 'TGAC': 137,\n",
       " 'TGAG': 90,\n",
       " 'TGAT': 208,\n",
       " 'TGCA': 164,\n",
       " 'TGCC': 94,\n",
       " 'TGCG': 34,\n",
       " 'TGCT': 255,\n",
       " 'TGGA': 143,\n",
       " 'TGGC': 110,\n",
       " 'TGGG': 56,\n",
       " 'TGGT': 245,\n",
       " 'TGTA': 200,\n",
       " 'TGTC': 141,\n",
       " 'TGTG': 187,\n",
       " 'TGTT': 330,\n",
       " 'TTAA': 259,\n",
       " 'TTAC': 241,\n",
       " 'TTAG': 129,\n",
       " 'TTAT': 247,\n",
       " 'TTCA': 183,\n",
       " 'TTCC': 80,\n",
       " 'TTCG': 39,\n",
       " 'TTCT': 216,\n",
       " 'TTGA': 191,\n",
       " 'TTGC': 169,\n",
       " 'TTGG': 165,\n",
       " 'TTGT': 292,\n",
       " 'TTTA': 289,\n",
       " 'TTTC': 159,\n",
       " 'TTTG': 257,\n",
       " 'TTTT': 299}"
      ]
     },
     "execution_count": 7,
     "metadata": {},
     "output_type": "execute_result"
    }
   ],
   "source": [
    "kmer_sequence(genome, 4)"
   ]
  },
  {
   "cell_type": "code",
   "execution_count": 16,
   "metadata": {},
   "outputs": [
    {
     "name": "stderr",
     "output_type": "stream",
     "text": [
      "/home/graviton/.local/lib/python3.6/site-packages/ipykernel_launcher.py:12: UserWarning: FixedFormatter should only be used together with FixedLocator\n",
      "  if sys.path[0] == '':\n"
     ]
    },
    {
     "data": {
      "image/png": "[encoded data removed]",
      "text/plain": [
       "<Figure size 864x576 with 1 Axes>"
      ]
     },
     "metadata": {
      "needs_background": "light"
     },
     "output_type": "display_data"
    }
   ],
   "source": [
    "# import seaborn as sns\n",
    "from matplotlib import cm\n",
    "# sns.set(style = 'darkgrid')\n",
    "k =2 \n",
    "viridis = cm.get_cmap('viridis', len(kmer_sequence(genome, k)))\n",
    "fig, ax = plt.subplots(figsize = (12,8))\n",
    "ax.bar(kmer_sequence(genome, k).keys(),kmer_sequence(genome, k).values(), color = viridis.colors, width = 0.5)\n",
    "\n",
    "#ax.bar(wuhan_freq.keys(),wuhan_freq.values(), color = ['Black', 'Blue', 'Green', 'Yellow'])\n",
    "\n",
    "ax.set_ylabel(\"Counts\", fontsize = 14)\n",
    "ax.set_xticklabels(kmer_sequence(genome, k).keys(),rotation=90, fontsize = 10)\n",
    "    \n",
    "plt.tight_layout()\n",
    "del k"
   ]
  },
  {
   "cell_type": "code",
   "execution_count": null,
   "metadata": {},
   "outputs": [],
   "source": []
  }
 ],
 "metadata": {
  "kernelspec": {
   "display_name": "Python 3",
   "language": "python",
   "name": "python3"
  },
  "language_info": {
   "codemirror_mode": {
    "name": "ipython",
    "version": 3
   },
   "file_extension": ".py",
   "mimetype": "text/x-python",
   "name": "python",
   "nbconvert_exporter": "python",
   "pygments_lexer": "ipython3",
   "version": "3.6.9"
  }
 },
 "nbformat": 4,
 "nbformat_minor": 4
}
